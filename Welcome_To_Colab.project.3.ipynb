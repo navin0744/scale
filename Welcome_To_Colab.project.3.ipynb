{
  "cells": [
    {
      "cell_type": "code",
      "source": [
        "import pandas as pd"
      ],
      "metadata": {
        "id": "2dOmZvkY9zB0"
      },
      "execution_count": 12,
      "outputs": []
    },
    {
      "cell_type": "code",
      "source": [
        "num_rows = 50  # You can change the number of rows as needed\n",
        "data = {\n",
        "    \"Patient ID\": [f\"P{1000+i}\" for i in range(num_rows)],\n",
        "    \"Age\": [random.randint(18, 85) for _ in range(num_rows)],\n",
        "    \"Gender\": [random.choice([\"Male\", \"Female\"]) for _ in range(num_rows)],\n",
        "    \"Visit Date\": [(datetime(2022, 1, 1) + timedelta(days=random.randint(0, 730))).strftime(\"%Y-%m-%d\") for _ in range(num_rows)],\n",
        "    \"Disease Diagnosed\": [random.choice([\"Diabetes\", \"Hypertension\", \"Cardiovascular\", \"Flu\", \"None\"]) for _ in range(num_rows)],\n",
        "    \"Smoking\": [random.choice([\"Yes\", \"No\"]) for _ in range(num_rows)],\n",
        "    \"Alcohol Consumption\": [random.choice([\"Low\", \"Moderate\", \"High\"]) for _ in range(num_rows)],\n",
        "    \"Physical Activity (hrs/week)\": [random.randint(0, 10) for _ in range(num_rows)],\n",
        "    \"BMI\": [round(random.uniform(18.5, 35.0), 1) for _ in range(num_rows)],\n",
        "    \"Blood Pressure (mmHg)\": [f\"{random.randint(100, 160)}/{random.randint(60, 100)}\" for _ in range(num_rows)],\n",
        "    \"Cholesterol Level (mg/dL)\": [random.randint(150, 300) for _ in range(num_rows)],\n",
        "    \"Family History\": [random.choice([\"Yes\", \"No\"]) for _ in range(num_rows)],\n",
        "    \"Follow-up Required\": [random.choice([\"Yes\", \"No\"]) for _ in range(num_rows)]\n",
        "}"
      ],
      "metadata": {
        "id": "vxzAhyRz9zEo"
      },
      "execution_count": 15,
      "outputs": []
    },
    {
      "cell_type": "code",
      "source": [
        "print(df.info())\n"
      ],
      "metadata": {
        "colab": {
          "base_uri": "https://localhost:8080/"
        },
        "id": "BougH-7H9zHC",
        "outputId": "09f8d8c2-a3f5-403b-967a-1538d7375ac5"
      },
      "execution_count": 18,
      "outputs": [
        {
          "output_type": "stream",
          "name": "stdout",
          "text": [
            "<class 'pandas.core.frame.DataFrame'>\n",
            "RangeIndex: 50 entries, 0 to 49\n",
            "Data columns (total 13 columns):\n",
            " #   Column                        Non-Null Count  Dtype  \n",
            "---  ------                        --------------  -----  \n",
            " 0   Patient ID                    50 non-null     object \n",
            " 1   Age                           50 non-null     int64  \n",
            " 2   Gender                        50 non-null     object \n",
            " 3   Visit Date                    50 non-null     object \n",
            " 4   Disease Diagnosed             50 non-null     object \n",
            " 5   Smoking                       50 non-null     object \n",
            " 6   Alcohol Consumption           50 non-null     object \n",
            " 7   Physical Activity (hrs/week)  50 non-null     int64  \n",
            " 8   BMI                           50 non-null     float64\n",
            " 9   Blood Pressure (mmHg)         50 non-null     object \n",
            " 10  Cholesterol Level (mg/dL)     50 non-null     int64  \n",
            " 11  Family History                50 non-null     object \n",
            " 12  Follow-up Required            50 non-null     object \n",
            "dtypes: float64(1), int64(3), object(9)\n",
            "memory usage: 5.2+ KB\n",
            "None\n"
          ]
        }
      ]
    },
    {
      "cell_type": "code",
      "source": [
        "print(\"Missing values:\\n\", df.isnull().sum())\n"
      ],
      "metadata": {
        "colab": {
          "base_uri": "https://localhost:8080/"
        },
        "id": "qJLo6NPc9zJy",
        "outputId": "a730b639-dad9-43af-e827-130cc0efbf8e"
      },
      "execution_count": 19,
      "outputs": [
        {
          "output_type": "stream",
          "name": "stdout",
          "text": [
            "Missing values:\n",
            " Patient ID                      0\n",
            "Age                             0\n",
            "Gender                          0\n",
            "Visit Date                      0\n",
            "Disease Diagnosed               0\n",
            "Smoking                         0\n",
            "Alcohol Consumption             0\n",
            "Physical Activity (hrs/week)    0\n",
            "BMI                             0\n",
            "Blood Pressure (mmHg)           0\n",
            "Cholesterol Level (mg/dL)       0\n",
            "Family History                  0\n",
            "Follow-up Required              0\n",
            "dtype: int64\n"
          ]
        }
      ]
    },
    {
      "source": [
        "numeric_features = df.select_dtypes(include=['number'])\n",
        "df[numeric_features.columns] = df[numeric_features.columns].fillna(numeric_features.mean())"
      ],
      "cell_type": "code",
      "metadata": {
        "id": "KlZ-oXSO_ygk"
      },
      "execution_count": 30,
      "outputs": []
    },
    {
      "cell_type": "code",
      "source": [
        "print(df.describe())\n"
      ],
      "metadata": {
        "colab": {
          "base_uri": "https://localhost:8080/"
        },
        "id": "tjTSdvzH9zMo",
        "outputId": "21911d73-395b-41d1-d321-053169058adf"
      },
      "execution_count": 22,
      "outputs": [
        {
          "output_type": "stream",
          "name": "stdout",
          "text": [
            "             Age  Physical Activity (hrs/week)        BMI  \\\n",
            "count  50.000000                     50.000000  50.000000   \n",
            "mean   51.100000                      5.080000  27.234000   \n",
            "std    22.127875                      3.294027   3.842491   \n",
            "min    18.000000                      0.000000  20.200000   \n",
            "25%    32.000000                      2.000000  24.425000   \n",
            "50%    52.500000                      5.000000  27.200000   \n",
            "75%    74.000000                      8.000000  30.175000   \n",
            "max    85.000000                     10.000000  34.500000   \n",
            "\n",
            "       Cholesterol Level (mg/dL)  \n",
            "count                  50.000000  \n",
            "mean                  220.840000  \n",
            "std                    45.540007  \n",
            "min                   151.000000  \n",
            "25%                   184.000000  \n",
            "50%                   213.500000  \n",
            "75%                   261.500000  \n",
            "max                   299.000000  \n"
          ]
        }
      ]
    },
    {
      "source": [
        "if 'Age' in df.columns:\n",
        "    age_group = df.groupby('Age').mean(numeric_only=True) # Add numeric_only=True\n",
        "    print(\"Age-wise Statistics:\\n\", age_group)"
      ],
      "cell_type": "code",
      "metadata": {
        "colab": {
          "base_uri": "https://localhost:8080/"
        },
        "id": "XpLTgSUW_SO5",
        "outputId": "121d2775-735e-4218-b5e8-4f9cc3233f66"
      },
      "execution_count": 25,
      "outputs": [
        {
          "output_type": "stream",
          "name": "stdout",
          "text": [
            "Age-wise Statistics:\n",
            "      Physical Activity (hrs/week)        BMI  Cholesterol Level (mg/dL)\n",
            "Age                                                                    \n",
            "18                       2.000000  24.900000                 269.000000\n",
            "19                       3.500000  28.750000                 247.000000\n",
            "21                       2.500000  25.550000                 228.500000\n",
            "25                       2.500000  25.150000                 192.500000\n",
            "26                       3.333333  28.333333                 204.666667\n",
            "31                       9.000000  28.600000                 152.000000\n",
            "32                       3.666667  26.000000                 188.666667\n",
            "33                       2.000000  33.300000                 173.000000\n",
            "35                       7.333333  22.900000                 208.333333\n",
            "36                      10.000000  34.500000                 212.000000\n",
            "37                       7.000000  26.800000                 295.000000\n",
            "40                       9.000000  29.000000                 284.000000\n",
            "43                       2.000000  30.800000                 151.000000\n",
            "44                       5.000000  24.800000                 217.000000\n",
            "45                       0.000000  27.100000                 282.000000\n",
            "52                       8.000000  27.800000                 215.000000\n",
            "53                      10.000000  30.300000                 256.000000\n",
            "54                       0.000000  27.400000                 221.000000\n",
            "55                       9.000000  30.700000                 227.500000\n",
            "57                       2.666667  26.000000                 184.666667\n",
            "63                       5.000000  31.500000                 251.000000\n",
            "68                       5.000000  24.400000                 291.000000\n",
            "71                       9.000000  27.500000                 235.000000\n",
            "73                      10.000000  20.600000                 204.000000\n",
            "74                       4.250000  26.175000                 220.250000\n",
            "76                       5.000000  22.100000                 288.000000\n",
            "77                       9.000000  29.500000                 178.000000\n",
            "78                       4.500000  26.050000                 238.000000\n",
            "82                       3.000000  29.566667                 201.666667\n",
            "84                       8.500000  29.900000                 286.500000\n",
            "85                       9.000000  25.500000                 183.000000\n"
          ]
        }
      ]
    },
    {
      "cell_type": "code",
      "source": [
        "df.to_csv('cleaned_data.csv', index=False)\n"
      ],
      "metadata": {
        "id": "Dd9ujHQZ9zR9"
      },
      "execution_count": 26,
      "outputs": []
    },
    {
      "cell_type": "code",
      "source": [
        "print(\"Data analysis complete.\")"
      ],
      "metadata": {
        "colab": {
          "base_uri": "https://localhost:8080/"
        },
        "id": "bG1puULE9zUx",
        "outputId": "e4b8cd70-9d05-4bd0-c61d-04bef6d798a6"
      },
      "execution_count": 27,
      "outputs": [
        {
          "output_type": "stream",
          "name": "stdout",
          "text": [
            "Data analysis complete.\n"
          ]
        }
      ]
    }
  ],
  "metadata": {
    "colab": {
      "name": "Welcome To Colab",
      "provenance": []
    },
    "kernelspec": {
      "display_name": "Python 3",
      "name": "python3"
    }
  },
  "nbformat": 4,
  "nbformat_minor": 0
}